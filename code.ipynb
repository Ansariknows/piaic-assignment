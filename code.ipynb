{
 "cells": [
  {
   "cell_type": "raw",
   "metadata": {},
   "source": [
    "Task 1\n",
    "print value 1000 to 990 with while and for loop"
   ]
  },
  {
   "cell_type": "code",
   "execution_count": 14,
   "metadata": {},
   "outputs": [
    {
     "name": "stdout",
     "output_type": "stream",
     "text": [
      "1000\n",
      "999\n",
      "998\n",
      "997\n",
      "996\n",
      "995\n",
      "994\n",
      "993\n",
      "992\n",
      "991\n"
     ]
    }
   ],
   "source": [
    "\n",
    "for i in range(1000,990, -1):\n",
    "    print(i)\n"
   ]
  },
  {
   "cell_type": "code",
   "execution_count": 16,
   "metadata": {},
   "outputs": [
    {
     "name": "stdout",
     "output_type": "stream",
     "text": [
      "1000 ,999 ,998 ,997 ,996 ,995 ,994 ,993 ,992 ,991 ,990 ,"
     ]
    }
   ],
   "source": [
    "x=1000\n",
    "while x>989:\n",
    "    print(x,\",\",end=\"\")\n",
    "    x-=1\n"
   ]
  },
  {
   "cell_type": "raw",
   "metadata": {},
   "source": [
    "Task 2 \n",
    "with assci code 65-90, 97-12, 8-57 print characters base on above range for loop"
   ]
  },
  {
   "cell_type": "code",
   "execution_count": 19,
   "metadata": {},
   "outputs": [
    {
     "name": "stdout",
     "output_type": "stream",
     "text": [
      "The ascii value of p'15' is 112\n"
     ]
    }
   ],
   "source": [
    "#c='p'\n",
    "print(\"The ascii value of \"+c+\"'15' is\", ord(c))"
   ]
  },
  {
   "cell_type": "code",
   "execution_count": 26,
   "metadata": {},
   "outputs": [
    {
     "data": {
      "text/plain": [
       "'A'"
      ]
     },
     "execution_count": 26,
     "metadata": {},
     "output_type": "execute_result"
    }
   ],
   "source": [
    "chr(65)"
   ]
  },
  {
   "cell_type": "code",
   "execution_count": 31,
   "metadata": {},
   "outputs": [
    {
     "name": "stdout",
     "output_type": "stream",
     "text": [
      "65 = A\n",
      "66 = B\n",
      "67 = C\n",
      "68 = D\n",
      "69 = E\n",
      "70 = F\n",
      "71 = G\n",
      "72 = H\n",
      "73 = I\n",
      "74 = J\n",
      "75 = K\n",
      "76 = L\n",
      "77 = M\n",
      "78 = N\n",
      "79 = O\n",
      "80 = P\n",
      "81 = Q\n",
      "82 = R\n",
      "83 = S\n",
      "84 = T\n",
      "85 = U\n",
      "86 = V\n",
      "87 = W\n",
      "88 = X\n",
      "89 = Y\n"
     ]
    }
   ],
   "source": [
    "for i in range(65,90):\n",
    "    ch=chr(i)\n",
    "    print(i, \"=\", ch)\n"
   ]
  },
  {
   "cell_type": "raw",
   "metadata": {},
   "source": [
    "Task3 We need row and column number of numbers which are divisible by 5 in this matrix\n",
    "[\n",
    "    [2,5,9],\n",
    "    [8,9,10],\n",
    "    [20,30,27],\n",
    "    [35,9,20]\n",
    "]\n",
    "output like this (optional)\n",
    "[[(1,1)]]\n",
    "[(2,2)]"
   ]
  },
  {
   "cell_type": "code",
   "execution_count": 53,
   "metadata": {},
   "outputs": [
    {
     "name": "stdout",
     "output_type": "stream",
     "text": [
      "0 1 5 \n",
      "1 2 10 \n",
      "2 0 20 2 1 30 \n",
      "3 0 35 3 2 20 \n"
     ]
    }
   ],
   "source": [
    "l=[[2,5,9],\n",
    "[8,9,10],\n",
    "[20,30,27],\n",
    "[35,9,20]]\n",
    "for ri,r in enumerate(l):\n",
    "    for ci,c in enumerate(r):\n",
    "        if c % 5==0:\n",
    "            print (ri,ci,c, end = \" \") \n",
    "    print ()"
   ]
  },
  {
   "cell_type": "raw",
   "metadata": {},
   "source": [
    "Task Real world application to marketing\n",
    "you see gorgeous girl, that's direct marketing.... sexist mysogynist joke"
   ]
  },
  {
   "cell_type": "code",
   "execution_count": 55,
   "metadata": {},
   "outputs": [
    {
     "name": "stdout",
     "output_type": "stream",
     "text": [
      "Direct Marketing\n"
     ]
    }
   ],
   "source": [
    "initiative= \"you\" #friend or girl\n",
    "rich=True\n",
    "slap= False\n",
    "if initiative=='you':\n",
    "    if rich==True and slap==False :\n",
    "        print(\"Direct Marketing\")\n",
    "    elif rich==True and slap==True:\n",
    "        print(\"Customer feedback!\")\n",
    "    elif husband== True:\n",
    "        print(\"Demand supply gap\")\n",
    "\n",
    "    \n",
    "elif initiative==\"friend\":\n",
    "        print(\"that's advertising\")\n",
    "        \n",
    "elif initiative==\"girl\" and rich==True:\n",
    "    print(\"Brand recognition\")\n",
    "    "
   ]
  },
  {
   "cell_type": "code",
   "execution_count": null,
   "metadata": {},
   "outputs": [],
   "source": []
  }
 ],
 "metadata": {
  "kernelspec": {
   "display_name": "Python 3",
   "language": "python",
   "name": "python3"
  },
  "language_info": {
   "codemirror_mode": {
    "name": "ipython",
    "version": 3
   },
   "file_extension": ".py",
   "mimetype": "text/x-python",
   "name": "python",
   "nbconvert_exporter": "python",
   "pygments_lexer": "ipython3",
   "version": "3.7.4"
  }
 },
 "nbformat": 4,
 "nbformat_minor": 2
}
